{
  "nbformat": 4,
  "nbformat_minor": 0,
  "metadata": {
    "colab": {
      "provenance": []
    },
    "kernelspec": {
      "name": "python3",
      "display_name": "Python 3"
    },
    "language_info": {
      "name": "python"
    }
  },
  "cells": [
    {
      "cell_type": "markdown",
      "source": [
        "# 1. Exploratory Data Analysis (EDA)"
      ],
      "metadata": {
        "id": "7_jvHt8MkgJX"
      }
    },
    {
      "cell_type": "code",
      "source": [
        "# Load the Dataset\n",
        "\n",
        "import pandas as pd\n",
        "import seaborn as sns\n",
        "import matplotlib.pyplot as plt\n",
        "\n",
        "# Load the dataset\n",
        "df = pd.read_csv('data.csv')\n",
        "\n",
        "# Display the first few rows\n",
        "print(df.head())"
      ],
      "metadata": {
        "colab": {
          "base_uri": "https://localhost:8080/"
        },
        "id": "UDlAFSrqkit5",
        "outputId": "ac18206d-bd0b-4b26-b035-87d0cf0cd8a2"
      },
      "execution_count": 1,
      "outputs": [
        {
          "output_type": "stream",
          "name": "stdout",
          "text": [
            "         id diagnosis  radius_mean  texture_mean  perimeter_mean  area_mean  \\\n",
            "0    842302         M        17.99         10.38          122.80     1001.0   \n",
            "1    842517         M        20.57         17.77          132.90     1326.0   \n",
            "2  84300903         M        19.69         21.25          130.00     1203.0   \n",
            "3  84348301         M        11.42         20.38           77.58      386.1   \n",
            "4  84358402         M        20.29         14.34          135.10     1297.0   \n",
            "\n",
            "   smoothness_mean  compactness_mean  concavity_mean  concave points_mean  \\\n",
            "0          0.11840           0.27760          0.3001              0.14710   \n",
            "1          0.08474           0.07864          0.0869              0.07017   \n",
            "2          0.10960           0.15990          0.1974              0.12790   \n",
            "3          0.14250           0.28390          0.2414              0.10520   \n",
            "4          0.10030           0.13280          0.1980              0.10430   \n",
            "\n",
            "   ...  texture_worst  perimeter_worst  area_worst  smoothness_worst  \\\n",
            "0  ...          17.33           184.60      2019.0            0.1622   \n",
            "1  ...          23.41           158.80      1956.0            0.1238   \n",
            "2  ...          25.53           152.50      1709.0            0.1444   \n",
            "3  ...          26.50            98.87       567.7            0.2098   \n",
            "4  ...          16.67           152.20      1575.0            0.1374   \n",
            "\n",
            "   compactness_worst  concavity_worst  concave points_worst  symmetry_worst  \\\n",
            "0             0.6656           0.7119                0.2654          0.4601   \n",
            "1             0.1866           0.2416                0.1860          0.2750   \n",
            "2             0.4245           0.4504                0.2430          0.3613   \n",
            "3             0.8663           0.6869                0.2575          0.6638   \n",
            "4             0.2050           0.4000                0.1625          0.2364   \n",
            "\n",
            "   fractal_dimension_worst  Unnamed: 32  \n",
            "0                  0.11890          NaN  \n",
            "1                  0.08902          NaN  \n",
            "2                  0.08758          NaN  \n",
            "3                  0.17300          NaN  \n",
            "4                  0.07678          NaN  \n",
            "\n",
            "[5 rows x 33 columns]\n"
          ]
        }
      ]
    },
    {
      "cell_type": "code",
      "source": [
        "# Check for missing values\n",
        "print(df.isnull().sum())"
      ],
      "metadata": {
        "colab": {
          "base_uri": "https://localhost:8080/"
        },
        "id": "3uMyE5Obk1GU",
        "outputId": "33a5f8f4-8701-47c3-ba49-03c83df82763"
      },
      "execution_count": 2,
      "outputs": [
        {
          "output_type": "stream",
          "name": "stdout",
          "text": [
            "id                           0\n",
            "diagnosis                    0\n",
            "radius_mean                  0\n",
            "texture_mean                 0\n",
            "perimeter_mean               0\n",
            "area_mean                    0\n",
            "smoothness_mean              0\n",
            "compactness_mean             0\n",
            "concavity_mean               0\n",
            "concave points_mean          0\n",
            "symmetry_mean                0\n",
            "fractal_dimension_mean       0\n",
            "radius_se                    0\n",
            "texture_se                   0\n",
            "perimeter_se                 0\n",
            "area_se                      0\n",
            "smoothness_se                0\n",
            "compactness_se               0\n",
            "concavity_se                 0\n",
            "concave points_se            0\n",
            "symmetry_se                  0\n",
            "fractal_dimension_se         0\n",
            "radius_worst                 0\n",
            "texture_worst                0\n",
            "perimeter_worst              0\n",
            "area_worst                   0\n",
            "smoothness_worst             0\n",
            "compactness_worst            0\n",
            "concavity_worst              0\n",
            "concave points_worst         0\n",
            "symmetry_worst               0\n",
            "fractal_dimension_worst      0\n",
            "Unnamed: 32                569\n",
            "dtype: int64\n"
          ]
        }
      ]
    },
    {
      "cell_type": "code",
      "source": [
        "# Drop columns that are not needed\n",
        "df = df.drop(columns=['Unnamed: 32'])"
      ],
      "metadata": {
        "id": "hmq5iKLAsvD5"
      },
      "execution_count": 3,
      "outputs": []
    },
    {
      "cell_type": "code",
      "source": [
        "# Create a countplot for diagnosis\n",
        "sns.countplot(x='diagnosis', data=df)\n",
        "plt.title('Count of Each Diagnosis')\n",
        "plt.show()"
      ],
      "metadata": {
        "colab": {
          "base_uri": "https://localhost:8080/",
          "height": 472
        },
        "id": "uqNOIjG8lNQU",
        "outputId": "b35ae5c4-adcd-4b5c-c745-061a58d57c2b"
      },
      "execution_count": 4,
      "outputs": [
        {
          "output_type": "display_data",
          "data": {
            "text/plain": [
              "<Figure size 640x480 with 1 Axes>"
            ],
            "image/png": "[encoded data removed]"
          },
          "metadata": {}
        }
      ]
    },
    {
      "cell_type": "markdown",
      "source": [
        "# 2. Data Preprocessing, Building Models, and Evaluation"
      ],
      "metadata": {
        "id": "jT9604TxlYl0"
      }
    },
    {
      "cell_type": "code",
      "source": [
        "# Count unique values in the 'diagnosis' column\n",
        "print(df['diagnosis'].value_counts())"
      ],
      "metadata": {
        "colab": {
          "base_uri": "https://localhost:8080/"
        },
        "id": "3ilpevPwlbXX",
        "outputId": "6feee6a6-31ef-4912-b81b-756b43ee694b"
      },
      "execution_count": 5,
      "outputs": [
        {
          "output_type": "stream",
          "name": "stdout",
          "text": [
            "diagnosis\n",
            "B    357\n",
            "M    212\n",
            "Name: count, dtype: int64\n"
          ]
        }
      ]
    },
    {
      "cell_type": "code",
      "source": [
        "# Map categorical values to numerical values\n",
        "df['diagnosis'] = df['diagnosis'].map({'M': 1, 'B': 0})  # mapping for malignant (M) and benign (B)"
      ],
      "metadata": {
        "id": "-oTYQxQIllR6"
      },
      "execution_count": 6,
      "outputs": []
    },
    {
      "cell_type": "code",
      "source": [
        "# Split the Data into Training and Testing Sets\n",
        "\n",
        "from sklearn.model_selection import train_test_split\n",
        "\n",
        "# Split the data into features and target\n",
        "X = df.drop(columns=['diagnosis'])\n",
        "y = df['diagnosis']\n",
        "\n",
        "# Split into train and test sets\n",
        "X_train, X_test, y_train, y_test = train_test_split(X, y, test_size=0.3, random_state=42)"
      ],
      "metadata": {
        "id": "t7zY58RrluIX"
      },
      "execution_count": 7,
      "outputs": []
    },
    {
      "cell_type": "markdown",
      "source": [
        "# Implement and Evaluate Classification Models"
      ],
      "metadata": {
        "id": "wMT6yq3XrdTN"
      }
    },
    {
      "source": [
        "# Logistic Regression\n",
        "\n",
        "from sklearn.linear_model import LogisticRegression\n",
        "from sklearn.metrics import accuracy_score\n",
        "from sklearn.impute import SimpleImputer  # Import SimpleImputer\n",
        "\n",
        "# Initialize imputer to replace missing values with the mean\n",
        "imputer = SimpleImputer(strategy='mean')\n",
        "\n",
        "# Fit the imputer on the training data and transform both training and testing data\n",
        "X_train_imputed = imputer.fit_transform(X_train)\n",
        "X_test_imputed = imputer.transform(X_test)\n",
        "\n",
        "# Initialize and train the model\n",
        "log_reg = LogisticRegression()\n",
        "log_reg.fit(X_train_imputed, y_train)  # Use imputed data for training\n",
        "\n",
        "# Predict and evaluate\n",
        "y_pred_log_reg = log_reg.predict(X_test_imputed)  # Use imputed data for prediction\n",
        "accuracy_log_reg = accuracy_score(y_test, y_pred_log_reg)\n",
        "print(f'Logistic Regression Accuracy: {accuracy_log_reg:.4f}')"
      ],
      "cell_type": "code",
      "metadata": {
        "colab": {
          "base_uri": "https://localhost:8080/"
        },
        "id": "Xzkr9fcvr1E0",
        "outputId": "07e57403-5eac-44af-c9ec-4cbb58d8004c"
      },
      "execution_count": 8,
      "outputs": [
        {
          "output_type": "stream",
          "name": "stdout",
          "text": [
            "Logistic Regression Accuracy: 0.6316\n"
          ]
        }
      ]
    },
    {
      "source": [
        "# K-Nearest Neighbours (KNN)\n",
        "\n",
        "from sklearn.neighbors import KNeighborsClassifier\n",
        "from sklearn.impute import SimpleImputer  # Import SimpleImputer if not already done\n",
        "\n",
        "# Initialize imputer (if not already initialized)\n",
        "imputer = SimpleImputer(strategy='mean')\n",
        "\n",
        "# Fit the imputer on the training data and transform both training and testing data (if not already done)\n",
        "X_train_imputed = imputer.fit_transform(X_train)\n",
        "X_test_imputed = imputer.transform(X_test)\n",
        "\n",
        "# Initialize and train the model\n",
        "knn = KNeighborsClassifier()\n",
        "knn.fit(X_train_imputed, y_train) # Fit the model to the training data\n",
        "\n",
        "# Predict and evaluate\n",
        "y_pred_knn = knn.predict(X_test)\n",
        "accuracy_knn = accuracy_score(y_test, y_pred_knn)\n",
        "print(f'K-Nearest Neighbours Accuracy: {accuracy_knn:.4f}')"
      ],
      "cell_type": "code",
      "metadata": {
        "colab": {
          "base_uri": "https://localhost:8080/"
        },
        "id": "VsHXXYLAsHRA",
        "outputId": "d6cbf071-ac45-4513-83e9-331b4d11884f"
      },
      "execution_count": 12,
      "outputs": [
        {
          "output_type": "stream",
          "name": "stdout",
          "text": [
            "K-Nearest Neighbours Accuracy: 0.7135\n"
          ]
        },
        {
          "output_type": "stream",
          "name": "stderr",
          "text": [
            "/usr/local/lib/python3.10/dist-packages/sklearn/base.py:458: UserWarning: X has feature names, but KNeighborsClassifier was fitted without feature names\n",
            "  warnings.warn(\n"
          ]
        }
      ]
    },
    {
      "cell_type": "code",
      "source": [
        "# Random Forests\n",
        "from sklearn.ensemble import RandomForestClassifier\n",
        "\n",
        "# Initialize and train the model\n",
        "rf = RandomForestClassifier()\n",
        "rf.fit(X_train, y_train)\n",
        "\n",
        "# Predict and evaluate\n",
        "y_pred_rf = rf.predict(X_test)\n",
        "accuracy_rf = accuracy_score(y_test, y_pred_rf)\n",
        "print(f'Random Forest Accuracy: {accuracy_rf:.4f}')"
      ],
      "metadata": {
        "colab": {
          "base_uri": "https://localhost:8080/"
        },
        "id": "euSpInWWty82",
        "outputId": "912b2182-49bd-42c6-971f-ad12c8acef42"
      },
      "execution_count": 13,
      "outputs": [
        {
          "output_type": "stream",
          "name": "stdout",
          "text": [
            "Random Forest Accuracy: 0.9708\n"
          ]
        }
      ]
    },
    {
      "cell_type": "code",
      "source": [
        "# Support Vector Machines (SVM)\n",
        "from sklearn.svm import SVC\n",
        "\n",
        "# Initialize and train the model\n",
        "svm = SVC()\n",
        "svm.fit(X_train, y_train)\n",
        "\n",
        "# Predict and evaluate\n",
        "y_pred_svm = svm.predict(X_test)\n",
        "accuracy_svm = accuracy_score(y_test, y_pred_svm)\n",
        "print(f'Support Vector Machines Accuracy: {accuracy_svm:.4f}')"
      ],
      "metadata": {
        "colab": {
          "base_uri": "https://localhost:8080/"
        },
        "id": "PB0MUw5Jt_Qr",
        "outputId": "b02ac588-8384-4ce9-dc2d-b51e14f03878"
      },
      "execution_count": 14,
      "outputs": [
        {
          "output_type": "stream",
          "name": "stdout",
          "text": [
            "Support Vector Machines Accuracy: 0.6316\n"
          ]
        }
      ]
    },
    {
      "cell_type": "markdown",
      "source": [
        "# Determine the Best Model"
      ],
      "metadata": {
        "id": "RKzIcBLEuKtn"
      }
    },
    {
      "cell_type": "code",
      "source": [
        "print(f'Logistic Regression Accuracy: {accuracy_log_reg:.4f}')\n",
        "print(f'K-Nearest Neighbours Accuracy: {accuracy_knn:.4f}')\n",
        "print(f'Random Forest Accuracy: {accuracy_rf:.4f}')\n",
        "print(f'Support Vector Machines Accuracy: {accuracy_svm:.4f}')"
      ],
      "metadata": {
        "colab": {
          "base_uri": "https://localhost:8080/"
        },
        "id": "56UNqV1UuOaB",
        "outputId": "c8438f0a-2bf9-439e-c6b8-c7912cd83773"
      },
      "execution_count": 15,
      "outputs": [
        {
          "output_type": "stream",
          "name": "stdout",
          "text": [
            "Logistic Regression Accuracy: 0.6316\n",
            "K-Nearest Neighbours Accuracy: 0.7135\n",
            "Random Forest Accuracy: 0.9708\n",
            "Support Vector Machines Accuracy: 0.6316\n"
          ]
        }
      ]
    },
    {
      "cell_type": "markdown",
      "source": [
        "**Analysis and Comparison:**\n",
        "\n",
        "*Random Forest:*\n",
        "\n",
        "Accuracy: 0.9708\n",
        "\n",
        "Observation: This model has the highest accuracy among the four models. It indicates that the Random Forest classifier is performing very well on the dataset, correctly classifying a significant majority of the samples.\n",
        "\n",
        "*K-Nearest Neighbours (KNN):*\n",
        "\n",
        "Accuracy: 0.7135\n",
        "\n",
        "Observation: The KNN model also performs reasonably well but is less accurate than the Random Forest. It shows better performance compared to Logistic Regression and SVM, indicating that the choice of k and distance metric used in KNN is reasonable.\n",
        "\n",
        "*Logistic Regression:*\n",
        "\n",
        "Accuracy: 0.6316\n",
        "\n",
        "Observation: This model has lower accuracy compared to Random Forest and KNN. This might be due to the linear nature of Logistic Regression, which may not capture complex relationships in the data as effectively as Random Forest.\n",
        "\n",
        "*Support Vector Machines (SVM):*\n",
        "\n",
        "Accuracy: 0.6316\n",
        "\n",
        "Observation: The SVM model performs similarly to Logistic Regression, indicating that the chosen kernel and hyperparameters may not be optimal for this dataset.\n",
        "\n",
        "**Conclusion:**\n",
        "\n",
        "*Best Model:* Random Forest is the best performing model based on accuracy. It achieves the highest accuracy of 97.08%, indicating that it is most effective in classifying the samples correctly.\n",
        "\n",
        "*Model Improvements:* For other models like Logistic Regression and SVM, you might consider further hyperparameter tuning, feature engineering, or using different kernels (for SVM) to potentially improve their performance.\n",
        "\n",
        "Random Forest's high accuracy suggests it is the most suitable model for this classification task given the current setup."
      ],
      "metadata": {
        "id": "_WQgsQ_3uTVy"
      }
    }
  ]
}